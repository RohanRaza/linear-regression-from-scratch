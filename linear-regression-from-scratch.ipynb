{
 "cells": [
  {
   "cell_type": "code",
   "execution_count": 1,
   "id": "91df7f51",
   "metadata": {
    "_cell_guid": "b1076dfc-b9ad-4769-8c92-a6c4dae69d19",
    "_uuid": "8f2839f25d086af736a60e9eeb907d3b93b6e0e5",
    "execution": {
     "iopub.execute_input": "2023-11-22T21:03:26.736422Z",
     "iopub.status.busy": "2023-11-22T21:03:26.735936Z",
     "iopub.status.idle": "2023-11-22T21:03:28.578634Z",
     "shell.execute_reply": "2023-11-22T21:03:28.577227Z"
    },
    "papermill": {
     "duration": 1.852076,
     "end_time": "2023-11-22T21:03:28.581680",
     "exception": false,
     "start_time": "2023-11-22T21:03:26.729604",
     "status": "completed"
    },
    "tags": []
   },
   "outputs": [],
   "source": [
    "import pandas as pd\n",
    "import numpy as np\n",
    "import seaborn as sns \n",
    "import matplotlib.pyplot as plt "
   ]
  },
  {
   "cell_type": "code",
   "execution_count": 2,
   "id": "50102d42",
   "metadata": {
    "execution": {
     "iopub.execute_input": "2023-11-22T21:03:28.593958Z",
     "iopub.status.busy": "2023-11-22T21:03:28.593387Z",
     "iopub.status.idle": "2023-11-22T21:03:28.624283Z",
     "shell.execute_reply": "2023-11-22T21:03:28.622957Z"
    },
    "papermill": {
     "duration": 0.039632,
     "end_time": "2023-11-22T21:03:28.627573",
     "exception": false,
     "start_time": "2023-11-22T21:03:28.587941",
     "status": "completed"
    },
    "tags": []
   },
   "outputs": [],
   "source": [
    "df_train = pd.read_csv(\"/kaggle/input/random-linear-regression/train.csv\")\n",
    "df_test = pd.read_csv(\"/kaggle/input/random-linear-regression/test.csv\")"
   ]
  },
  {
   "cell_type": "code",
   "execution_count": 3,
   "id": "36e9f9d1",
   "metadata": {
    "execution": {
     "iopub.execute_input": "2023-11-22T21:03:28.638189Z",
     "iopub.status.busy": "2023-11-22T21:03:28.637783Z",
     "iopub.status.idle": "2023-11-22T21:03:28.664048Z",
     "shell.execute_reply": "2023-11-22T21:03:28.662906Z"
    },
    "papermill": {
     "duration": 0.035071,
     "end_time": "2023-11-22T21:03:28.667125",
     "exception": false,
     "start_time": "2023-11-22T21:03:28.632054",
     "status": "completed"
    },
    "tags": []
   },
   "outputs": [
    {
     "data": {
      "text/html": [
       "<div>\n",
       "<style scoped>\n",
       "    .dataframe tbody tr th:only-of-type {\n",
       "        vertical-align: middle;\n",
       "    }\n",
       "\n",
       "    .dataframe tbody tr th {\n",
       "        vertical-align: top;\n",
       "    }\n",
       "\n",
       "    .dataframe thead th {\n",
       "        text-align: right;\n",
       "    }\n",
       "</style>\n",
       "<table border=\"1\" class=\"dataframe\">\n",
       "  <thead>\n",
       "    <tr style=\"text-align: right;\">\n",
       "      <th></th>\n",
       "      <th>x</th>\n",
       "      <th>y</th>\n",
       "    </tr>\n",
       "  </thead>\n",
       "  <tbody>\n",
       "    <tr>\n",
       "      <th>0</th>\n",
       "      <td>24.0</td>\n",
       "      <td>21.549452</td>\n",
       "    </tr>\n",
       "    <tr>\n",
       "      <th>1</th>\n",
       "      <td>50.0</td>\n",
       "      <td>47.464463</td>\n",
       "    </tr>\n",
       "    <tr>\n",
       "      <th>2</th>\n",
       "      <td>15.0</td>\n",
       "      <td>17.218656</td>\n",
       "    </tr>\n",
       "    <tr>\n",
       "      <th>3</th>\n",
       "      <td>38.0</td>\n",
       "      <td>36.586398</td>\n",
       "    </tr>\n",
       "    <tr>\n",
       "      <th>4</th>\n",
       "      <td>87.0</td>\n",
       "      <td>87.288984</td>\n",
       "    </tr>\n",
       "  </tbody>\n",
       "</table>\n",
       "</div>"
      ],
      "text/plain": [
       "      x          y\n",
       "0  24.0  21.549452\n",
       "1  50.0  47.464463\n",
       "2  15.0  17.218656\n",
       "3  38.0  36.586398\n",
       "4  87.0  87.288984"
      ]
     },
     "execution_count": 3,
     "metadata": {},
     "output_type": "execute_result"
    }
   ],
   "source": [
    "df_train.head()"
   ]
  },
  {
   "cell_type": "code",
   "execution_count": 4,
   "id": "e0c8dedf",
   "metadata": {
    "execution": {
     "iopub.execute_input": "2023-11-22T21:03:28.678248Z",
     "iopub.status.busy": "2023-11-22T21:03:28.677746Z",
     "iopub.status.idle": "2023-11-22T21:03:28.689241Z",
     "shell.execute_reply": "2023-11-22T21:03:28.687998Z"
    },
    "papermill": {
     "duration": 0.020149,
     "end_time": "2023-11-22T21:03:28.691699",
     "exception": false,
     "start_time": "2023-11-22T21:03:28.671550",
     "status": "completed"
    },
    "tags": []
   },
   "outputs": [
    {
     "data": {
      "text/html": [
       "<div>\n",
       "<style scoped>\n",
       "    .dataframe tbody tr th:only-of-type {\n",
       "        vertical-align: middle;\n",
       "    }\n",
       "\n",
       "    .dataframe tbody tr th {\n",
       "        vertical-align: top;\n",
       "    }\n",
       "\n",
       "    .dataframe thead th {\n",
       "        text-align: right;\n",
       "    }\n",
       "</style>\n",
       "<table border=\"1\" class=\"dataframe\">\n",
       "  <thead>\n",
       "    <tr style=\"text-align: right;\">\n",
       "      <th></th>\n",
       "      <th>x</th>\n",
       "      <th>y</th>\n",
       "    </tr>\n",
       "  </thead>\n",
       "  <tbody>\n",
       "    <tr>\n",
       "      <th>0</th>\n",
       "      <td>77</td>\n",
       "      <td>79.775152</td>\n",
       "    </tr>\n",
       "    <tr>\n",
       "      <th>1</th>\n",
       "      <td>21</td>\n",
       "      <td>23.177279</td>\n",
       "    </tr>\n",
       "    <tr>\n",
       "      <th>2</th>\n",
       "      <td>22</td>\n",
       "      <td>25.609262</td>\n",
       "    </tr>\n",
       "    <tr>\n",
       "      <th>3</th>\n",
       "      <td>20</td>\n",
       "      <td>17.857388</td>\n",
       "    </tr>\n",
       "    <tr>\n",
       "      <th>4</th>\n",
       "      <td>36</td>\n",
       "      <td>41.849864</td>\n",
       "    </tr>\n",
       "  </tbody>\n",
       "</table>\n",
       "</div>"
      ],
      "text/plain": [
       "    x          y\n",
       "0  77  79.775152\n",
       "1  21  23.177279\n",
       "2  22  25.609262\n",
       "3  20  17.857388\n",
       "4  36  41.849864"
      ]
     },
     "execution_count": 4,
     "metadata": {},
     "output_type": "execute_result"
    }
   ],
   "source": [
    "df_test.head()"
   ]
  },
  {
   "cell_type": "code",
   "execution_count": 5,
   "id": "3f0f02c4",
   "metadata": {
    "execution": {
     "iopub.execute_input": "2023-11-22T21:03:28.703599Z",
     "iopub.status.busy": "2023-11-22T21:03:28.702836Z",
     "iopub.status.idle": "2023-11-22T21:03:29.190442Z",
     "shell.execute_reply": "2023-11-22T21:03:29.189107Z"
    },
    "papermill": {
     "duration": 0.496721,
     "end_time": "2023-11-22T21:03:29.193090",
     "exception": false,
     "start_time": "2023-11-22T21:03:28.696369",
     "status": "completed"
    },
    "tags": []
   },
   "outputs": [
    {
     "data": {
      "image/png": "[encoded data removed]",
      "text/plain": [
       "<Figure size 640x480 with 1 Axes>"
      ]
     },
     "metadata": {},
     "output_type": "display_data"
    }
   ],
   "source": [
    "df_train.plot(x=\"x\", y=\"y\", kind=\"scatter\", color=\"skyblue\", xlabel=\"x axis\", ylabel=\"y axis\", title=\"Training Dataset\");"
   ]
  },
  {
   "cell_type": "code",
   "execution_count": 6,
   "id": "e3a5b16a",
   "metadata": {
    "execution": {
     "iopub.execute_input": "2023-11-22T21:03:29.205095Z",
     "iopub.status.busy": "2023-11-22T21:03:29.204667Z",
     "iopub.status.idle": "2023-11-22T21:03:29.545910Z",
     "shell.execute_reply": "2023-11-22T21:03:29.544822Z"
    },
    "papermill": {
     "duration": 0.350405,
     "end_time": "2023-11-22T21:03:29.548488",
     "exception": false,
     "start_time": "2023-11-22T21:03:29.198083",
     "status": "completed"
    },
    "tags": []
   },
   "outputs": [
    {
     "data": {
      "image/png": "[encoded data removed]",
      "text/plain": [
       "<Figure size 640x480 with 1 Axes>"
      ]
     },
     "metadata": {},
     "output_type": "display_data"
    }
   ],
   "source": [
    "df_test.plot(x=\"x\", y=\"y\", kind=\"scatter\", color=\"orange\", xlabel=\"x axis\", ylabel=\"y axis\", title=\"Test Dataset\");"
   ]
  },
  {
   "cell_type": "code",
   "execution_count": 7,
   "id": "04d49dab",
   "metadata": {
    "execution": {
     "iopub.execute_input": "2023-11-22T21:03:29.562037Z",
     "iopub.status.busy": "2023-11-22T21:03:29.561613Z",
     "iopub.status.idle": "2023-11-22T21:03:29.569020Z",
     "shell.execute_reply": "2023-11-22T21:03:29.567758Z"
    },
    "papermill": {
     "duration": 0.017327,
     "end_time": "2023-11-22T21:03:29.571405",
     "exception": false,
     "start_time": "2023-11-22T21:03:29.554078",
     "status": "completed"
    },
    "tags": []
   },
   "outputs": [],
   "source": [
    "def loss_function(m, b, points):\n",
    "    total_error = 0\n",
    "    for i in range(len(points)):\n",
    "        x = points.iloc[i].x\n",
    "        y = points.iloc[i].y\n",
    "        total_error += (y - (m*x + b))**2\n",
    "    return total_error/len(points)"
   ]
  },
  {
   "cell_type": "code",
   "execution_count": 8,
   "id": "06143b47",
   "metadata": {
    "execution": {
     "iopub.execute_input": "2023-11-22T21:03:29.585012Z",
     "iopub.status.busy": "2023-11-22T21:03:29.584489Z",
     "iopub.status.idle": "2023-11-22T21:03:54.119705Z",
     "shell.execute_reply": "2023-11-22T21:03:54.118351Z"
    },
    "papermill": {
     "duration": 24.545222,
     "end_time": "2023-11-22T21:03:54.122434",
     "exception": false,
     "start_time": "2023-11-22T21:03:29.577212",
     "status": "completed"
    },
    "tags": []
   },
   "outputs": [
    {
     "name": "stdout",
     "output_type": "stream",
     "text": [
      "Epoch: 0\n",
      "Epoch: 50\n",
      "Epoch: 100\n",
      "Epoch: 150\n",
      "Epoch: 200\n",
      "Epoch: 250\n",
      "nan nan\n"
     ]
    },
    {
     "data": {
      "image/png": "[encoded data removed]",
      "text/plain": [
       "<Figure size 640x480 with 1 Axes>"
      ]
     },
     "metadata": {},
     "output_type": "display_data"
    }
   ],
   "source": [
    "def gradient_descent(m_now, b_now, points, L):\n",
    "    m_gradient = 0\n",
    "    b_gradient = 0\n",
    "    \n",
    "    n = len(points)\n",
    "    \n",
    "    for i in range(n):\n",
    "        x = points.iloc[i].x\n",
    "        y = points.iloc[i].y\n",
    "        \n",
    "        m_gradient += -(2/n) * x * (y - (m_now*x + b_now))\n",
    "        b_gradient += -(2/n) * (y - (m_now*x + b_now))\n",
    "    m = m_now - m_gradient * L\n",
    "    b = b_now - b_gradient * L \n",
    "    return m,b\n",
    "\n",
    "\n",
    "m = 0\n",
    "b = 0\n",
    "L = 0.0001\n",
    "epochs = 300\n",
    "\n",
    "for i in range(epochs):\n",
    "    if i % 50 == 0:\n",
    "        print(f\"Epoch: {i}\")\n",
    "    m,b = gradient_descent(m, b, df_train, L)\n",
    "\n",
    "\n",
    "print(m, b)\n",
    "plt.scatter(df_train.x, df_train.y, color=\"skyblue\")\n",
    "plt.plot(list(range(0, 100)), [m*x + b for x in range(0, 100)], color=\"orange\")\n",
    "plt.show()"
   ]
  },
  {
   "cell_type": "code",
   "execution_count": null,
   "id": "84313189",
   "metadata": {
    "papermill": {
     "duration": 0.006347,
     "end_time": "2023-11-22T21:03:54.135746",
     "exception": false,
     "start_time": "2023-11-22T21:03:54.129399",
     "status": "completed"
    },
    "tags": []
   },
   "outputs": [],
   "source": []
  }
 ],
 "metadata": {
  "kaggle": {
   "accelerator": "none",
   "dataSources": [
    {
     "datasetId": 1256,
     "sourceId": 2242,
     "sourceType": "datasetVersion"
    }
   ],
   "dockerImageVersionId": 30587,
   "isGpuEnabled": false,
   "isInternetEnabled": true,
   "language": "python",
   "sourceType": "notebook"
  },
  "kernelspec": {
   "display_name": "Python 3 (ipykernel)",
   "language": "python",
   "name": "python3"
  },
  "language_info": {
   "codemirror_mode": {
    "name": "ipython",
    "version": 3
   },
   "file_extension": ".py",
   "mimetype": "text/x-python",
   "name": "python",
   "nbconvert_exporter": "python",
   "pygments_lexer": "ipython3",
   "version": "3.11.4"
  },
  "papermill": {
   "default_parameters": {},
   "duration": 31.645875,
   "end_time": "2023-11-22T21:03:54.864286",
   "environment_variables": {},
   "exception": null,
   "input_path": "__notebook__.ipynb",
   "output_path": "__notebook__.ipynb",
   "parameters": {},
   "start_time": "2023-11-22T21:03:23.218411",
   "version": "2.4.0"
  }
 },
 "nbformat": 4,
 "nbformat_minor": 5
}
